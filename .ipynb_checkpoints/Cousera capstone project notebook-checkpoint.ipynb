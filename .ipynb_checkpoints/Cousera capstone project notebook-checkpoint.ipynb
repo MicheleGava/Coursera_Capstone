{
 "cells": [
  {
   "cell_type": "markdown",
   "metadata": {},
   "source": [
    "# Cousera capstone project notebook"
   ]
  },
  {
   "cell_type": "markdown",
   "metadata": {},
   "source": [
    "### Notebook required as submission for the course *\"Applied Data Science Capstone\"*\n"
   ]
  },
  {
   "cell_type": "markdown",
   "metadata": {},
   "source": [
    "#### hosted on GitHub: \n",
    "- repo\n",
    "<https://github.com/MicheleGava/Coursera_Capstone>\n",
    "- notebook"
   ]
  },
  {
   "cell_type": "markdown",
   "metadata": {},
   "source": [
    "## Import required lbraries"
   ]
  },
  {
   "cell_type": "code",
   "execution_count": 1,
   "metadata": {},
   "outputs": [],
   "source": [
    "import pandas as pd\n",
    "import numpy as np"
   ]
  },
  {
   "cell_type": "markdown",
   "metadata": {},
   "source": [
    "### Task required: print a sentence"
   ]
  },
  {
   "cell_type": "code",
   "execution_count": 2,
   "metadata": {},
   "outputs": [
    {
     "name": "stdout",
     "output_type": "stream",
     "text": [
      "Hello Capstone Project Course!\n"
     ]
    }
   ],
   "source": [
    "sentence = 'Hello Capstone Project Course!'\n",
    "print(sentence)"
   ]
  },
  {
   "cell_type": "code",
   "execution_count": 5,
   "metadata": {},
   "outputs": [
    {
     "name": "stdout",
     "output_type": "stream",
     "text": [
      "End of the notebook\n",
      "**********\n",
      "That's all folks!\n",
      "**********\n",
      "Thanks for reviewing!!!\n"
     ]
    }
   ],
   "source": [
    "## print some other sentence to complete the assignment\n",
    "\n",
    "sent1 = \"End of the notebook\"\n",
    "sent2 = \"That's all folks!\"\n",
    "sent3 = \"Thanks for reviewing!!!\"\n",
    "\n",
    "\n",
    "print(sent1)\n",
    "print('*'*10)\n",
    "print(sent2)\n",
    "print('*'*10)\n",
    "print(sent3)"
   ]
  },
  {
   "cell_type": "code",
   "execution_count": null,
   "metadata": {},
   "outputs": [],
   "source": []
  }
 ],
 "metadata": {
  "kernelspec": {
   "display_name": "Python 3",
   "language": "python",
   "name": "python3"
  },
  "language_info": {
   "codemirror_mode": {
    "name": "ipython",
    "version": 3
   },
   "file_extension": ".py",
   "mimetype": "text/x-python",
   "name": "python",
   "nbconvert_exporter": "python",
   "pygments_lexer": "ipython3",
   "version": "3.6.6"
  }
 },
 "nbformat": 4,
 "nbformat_minor": 4
}
